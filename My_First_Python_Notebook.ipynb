{
  "nbformat": 4,
  "nbformat_minor": 0,
  "metadata": {
    "colab": {
      "provenance": []
    },
    "kernelspec": {
      "name": "python3",
      "display_name": "Python 3"
    },
    "language_info": {
      "name": "python"
    }
  },
  "cells": [
    {
      "cell_type": "code",
      "metadata": {
        "colab": {
          "base_uri": "https://localhost:8080/"
        },
        "id": "e9f6920e",
        "outputId": "5dd8e6f5-4d3c-4d77-f31d-cae4f7686512"
      },
      "source": [
        "# Function to calculate the sum of numbers from 1 to n\n",
        "def sum_up_to(n):\n",
        "  \"\"\"Calculates the sum of numbers from 1 to n.\"\"\"\n",
        "  return n * (n + 1) // 2\n",
        "\n",
        "# Calculate the sum of numbers from 1 to 10\n",
        "sum_of_numbers = sum_up_to(10)\n",
        "\n",
        "# Print the result\n",
        "print(f\"The sum of numbers from 1 to 10 is: {sum_of_numbers}\")\n"
      ],
      "execution_count": null,
      "outputs": [
        {
          "output_type": "stream",
          "name": "stdout",
          "text": [
            "The sum of numbers from 1 to 10 is: 55\n"
          ]
        }
      ]
    },
    {
      "cell_type": "code",
      "execution_count": null,
      "metadata": {
        "id": "LvT1RzjQtK69"
      },
      "outputs": [],
      "source": []
    },
    {
      "cell_type": "code",
      "source": [
        "print(\"Hello, Sir\")\n",
        "print(\"My name is Harshit Mishra and I am your PW Student.\")\n",
        "print(\"I love to have burgers at Buerger King.\")\n",
        "print(\"My career aspiration is achive my all goals\")"
      ],
      "metadata": {
        "colab": {
          "base_uri": "https://localhost:8080/"
        },
        "id": "gDGtUkzrlD7a",
        "outputId": "28bf2f0d-4638-4547-b6e1-5fe65e58b5f9"
      },
      "execution_count": null,
      "outputs": [
        {
          "output_type": "stream",
          "name": "stdout",
          "text": [
            "Hello, Sir\n",
            "My name is Harshit Mishra and I am your PW Student.\n",
            "I love to have burgers at Buerger King.\n",
            "My career aspiration is achive my all goals\n"
          ]
        }
      ]
    },
    {
      "cell_type": "code",
      "source": [],
      "metadata": {
        "id": "nWS-_BahtuIS"
      },
      "execution_count": null,
      "outputs": []
    },
    {
      "cell_type": "code",
      "source": [
        "# Basic school level maths problem\n",
        "# Let's solve a simple math problem: What is 2 + 3?\n",
        "# number1 = 2\n",
        "# number2 = 3\n",
        "# result = number1 + number2\n",
        "# Therefore, the result of 2 + 3 is 5.\n",
        "\n",
        "number1 = 145\n",
        "number2 = 55\n",
        "result = number1 + number2\n",
        "print(result)"
      ],
      "metadata": {
        "colab": {
          "base_uri": "https://localhost:8080/"
        },
        "id": "jEYJEy7irvf5",
        "outputId": "1ff0c509-6920-4616-8985-377d2e6beef4"
      },
      "execution_count": null,
      "outputs": [
        {
          "output_type": "stream",
          "name": "stdout",
          "text": [
            "200\n"
          ]
        }
      ]
    },
    {
      "cell_type": "code",
      "source": [],
      "metadata": {
        "id": "oSYG0h1ptwtq"
      },
      "execution_count": null,
      "outputs": []
    },
    {
      "cell_type": "code",
      "source": [
        "a = 10\n",
        "b = 3\n",
        "c = a + b # Addition\n",
        "c = a - b # Subtraction\n",
        "c = a * b # Multiplication\n",
        "c = a / b # Division\n",
        "c = a // b # // Floor Division - it gives quotient\n",
        "d = a - b # % Modulus - it gives remainder\n",
        "c = a ** b # ** Exponentiation - it raises a to the power of b\n",
        "e = a * b\n",
        "f = a / b\n",
        "g = a // b\n",
        "h = a % b\n",
        "h = a ** b\n",
        "print(c)\n",
        "print(d)\n",
        "print(e)\n",
        "print(f)\n",
        "print(g)\n",
        "print(h)\n"
      ],
      "metadata": {
        "colab": {
          "base_uri": "https://localhost:8080/"
        },
        "id": "L0Lk0VwYyucI",
        "outputId": "90e9158a-dbb8-46c8-9943-2ba517305769"
      },
      "execution_count": null,
      "outputs": [
        {
          "output_type": "stream",
          "name": "stdout",
          "text": [
            "1000\n",
            "7\n",
            "30\n",
            "3.3333333333333335\n",
            "3\n",
            "1000\n"
          ]
        }
      ]
    },
    {
      "cell_type": "code",
      "source": [
        "# Datatypes in Python - type()\n",
        "# Python has various built-in data types, including:\n",
        "# 1. Integers (int) - Whole numbers, e.g., 5, -10, 0\n",
        "# 2. Floating-point numbers (float) - Decimal numbers, e.g., 3.14, -0.001, 2.0, 0.000\n",
        "# 3. Strings (str) - Text data, e.g., \"Hello\", 'Python', \"123\"\n",
        "# 4. Booleans (bool) - True or False values"
      ],
      "metadata": {
        "id": "APhkxSz1y1MI"
      },
      "execution_count": null,
      "outputs": []
    },
    {
      "cell_type": "code",
      "source": [],
      "metadata": {
        "id": "p6ZMlPWVt6C5"
      },
      "execution_count": null,
      "outputs": []
    },
    {
      "cell_type": "code",
      "metadata": {
        "colab": {
          "base_uri": "https://localhost:8080/"
        },
        "id": "4465c1a4",
        "outputId": "0e53cfcc-958a-422e-d594-7daec65e3406"
      },
      "source": [
        "# Create variables of different data types\n",
        "my_integer = 10\n",
        "my_float = 3.14\n",
        "my_string = \"Hello, Pw!\"\n",
        "my_boolean = True\n",
        "\n",
        "# Print the data type of each variable\n",
        "print(type(my_integer))\n",
        "print(type(my_float))\n",
        "print(type(my_string))\n",
        "print(type(my_boolean))"
      ],
      "execution_count": null,
      "outputs": [
        {
          "output_type": "stream",
          "name": "stdout",
          "text": [
            "<class 'int'>\n",
            "<class 'float'>\n",
            "<class 'str'>\n",
            "<class 'bool'>\n"
          ]
        }
      ]
    },
    {
      "cell_type": "code",
      "metadata": {
        "colab": {
          "base_uri": "https://localhost:8080/"
        },
        "id": "866483b7",
        "outputId": "2e1af5cc-8d61-4a45-b3c9-5a883b8a5bfc"
      },
      "source": [
        "sword_damage = 35\n",
        "magic_damage = 20\n",
        "\n",
        "total_damage = sword_damage + magic_damage\n",
        "# Print the total damage\n",
        "print(\"total damage:\", total_damage)"
      ],
      "execution_count": null,
      "outputs": [
        {
          "output_type": "stream",
          "name": "stdout",
          "text": [
            "total damage: 55\n"
          ]
        }
      ]
    },
    {
      "cell_type": "code",
      "source": [
        "total_bullets = 10\n",
        "shots_fired = 3\n",
        "bullets_left = total_bullets - shots_fired\n",
        "print(\"Bullets left:\", bullets_left)"
      ],
      "metadata": {
        "colab": {
          "base_uri": "https://localhost:8080/"
        },
        "id": "7Dm4colPr1xc",
        "outputId": "d83cb0d6-3338-49a7-8d8d-6ad1cd3bfc5d"
      },
      "execution_count": null,
      "outputs": [
        {
          "output_type": "stream",
          "name": "stdout",
          "text": [
            "Bullets left: 7\n"
          ]
        }
      ]
    },
    {
      "cell_type": "code",
      "metadata": {
        "colab": {
          "base_uri": "https://localhost:8080/"
        },
        "id": "b2fe5879",
        "outputId": "77cfa51e-45e8-4871-fe5a-2275386ce59e"
      },
      "source": [
        "accuracy = 88\n",
        "required_accuracy = 90\n",
        "print(\"Qualifies for Critical Hit:\", accuracy >= required_accuracy)"
      ],
      "execution_count": null,
      "outputs": [
        {
          "output_type": "stream",
          "name": "stdout",
          "text": [
            "Qualifies for Critical Hit: False\n"
          ]
        }
      ]
    },
    {
      "cell_type": "code",
      "source": [
        "print(\"hello harshit!!\")"
      ],
      "metadata": {
        "colab": {
          "base_uri": "https://localhost:8080/"
        },
        "id": "W-yTDbVvlKWF",
        "outputId": "a11001d2-da07-4478-80a0-b94da911a796"
      },
      "execution_count": null,
      "outputs": [
        {
          "output_type": "stream",
          "name": "stdout",
          "text": [
            "hello harshit!!\n"
          ]
        }
      ]
    }
  ]
}